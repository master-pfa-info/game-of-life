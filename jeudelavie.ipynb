{
 "cells": [
  {
   "cell_type": "markdown",
   "metadata": {},
   "source": [
    "Le but de ce projet est de programmer en Go le \"jeu de la vie\".\n",
    "\n",
    "Pour une description de ce jeu (qui n'en est pas un en réalité), vous pouvez regarder cette vidéo :\n",
    "\n",
    "   https://www.youtube.com/watch?v=S-W0NX97DB0\n",
    "\n",
    "Comme vous pouvez le voir, le jeu de la vie régit l'évolution d'une population de cellules sur une grille. Afin de coder le jeu de la vie, il faut créer des structures qui représentent ces objects.\n",
    "\n",
    " - Création de la cellule:\n",
    "\n",
    "    1. Créer une `struct` nommée `Cell`. \n",
    "\n",
    "    2. Une cellule est décrite par sa position dans la grille et son état (morte ou vivante). Ajouter donc à `Cell` trois champs : le numéro de ligne dans la grille, le numéro de colonne dans la grille et une variable qui décrit son état. \n",
    "    \n",
    "    3. Lors de l'evolution, il faudra faire changer certaines cellule d'état (morte -> vivante ou vivante -> morte). Ajouter une méthode qui change l'état de la cellule."
   ]
  },
  {
   "cell_type": "code",
   "execution_count": null,
   "metadata": {
    "collapsed": true
   },
   "outputs": [],
   "source": []
  }
 ],
 "metadata": {
  "kernelspec": {
   "display_name": "Python 3",
   "language": "python",
   "name": "python3"
  },
  "language_info": {
   "codemirror_mode": {
    "name": "ipython",
    "version": 3
   },
   "file_extension": ".py",
   "mimetype": "text/x-python",
   "name": "python",
   "nbconvert_exporter": "python",
   "pygments_lexer": "ipython3",
   "version": "3.6.1"
  }
 },
 "nbformat": 4,
 "nbformat_minor": 2
}
