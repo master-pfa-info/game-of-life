{
 "cells": [
  {
   "cell_type": "markdown",
   "metadata": {},
   "source": [
    "Le but de ce projet est de programmer en Go le \"jeu de la vie\".\n",
    "\n",
    "Pour une description de ce jeu (qui n'en est pas un en réalité), vous pouvez regarder cette vidéo :\n",
    "\n",
    "   https://www.youtube.com/watch?v=S-W0NX97DB0\n",
    "\n",
    "Comme vous pouvez le voir, le jeu de la vie régit l'évolution d'une population de cellules sur une grille. Afin de vous aider dans l'implémentation, nous vous fournissons deux fichiers :\n",
    "\n",
    " - main.go : contient la fonction `main` (à ne pas toucher) et un objet de type `Grid`. Cet objet de type `Grid` est utilisé dans la fonction `GridGraph` utilisé dans la fonction `main`. Il n'est pas implémenté, c'est à vous de le faire. Pour le faire, nous allons suivre les étapes décrites ci-dessous.\n",
    " \n",
    " - plot.go : contient le code qui permet la représentation graphique (notamment la fonction `GridGraph`). Vous pouvez ne pas regarder ce fichier dans un premier temps et commencer l'implémentation directement, sans le comprendre (on le regardera à la fin si on a un peu de temps).\n",
    "\n",
    "Il vous faut donc implémenter l'objet de type `Grid` dans `main.go`. Avant cela, nous allons créer un objet qui décrit la cellule.\n",
    "\n",
    " - Création de la cellule:\n",
    "\n",
    "    1. Créer une `struct` nommée `Cell`. \n",
    "\n",
    "    2. Une cellule est décrite par sa position dans la grille et son état (morte ou vivante). Ajouter donc à `Cell` trois champs : le numéro de ligne dans la grille, le numéro de colonne dans la grille et une variable qui décrit son état. \n",
    "    \n",
    "    3. Lors de l'evolution, il faudra faire changer certaines cellule d'état (morte -> vivante ou vivante -> morte). Ajouter une méthode qui change l'état de la cellule.\n",
    "    \n",
    " - Création de la grille:\n",
    " \n",
    "    1. Créer une `struct` nommée `Grid` contenant une `slice` de `slice` (donc une `slice` bi-dimensionnelle) de cellules. \n",
    "    \n",
    "    2. Créer une fonction `NewGrid` qui retourne un pointeur vers un objet de type `Grid`. Dans cette fonction, on initialisera toutes les cellules dans l'état morte.\n",
    "    \n",
    "    3. Créer une fonction `InitRandom` qui initialise la grille de manière aléatoire.\n",
    "    \n",
    "    4. Pour faire évoluer la grille, il faut, pour chaque cellule, déterminer ces voisines. "
   ]
  },
  {
   "cell_type": "code",
   "execution_count": null,
   "metadata": {
    "collapsed": true
   },
   "outputs": [],
   "source": []
  }
 ],
 "metadata": {
  "kernelspec": {
   "display_name": "Python 3",
   "language": "python",
   "name": "python3"
  },
  "language_info": {
   "codemirror_mode": {
    "name": "ipython",
    "version": 3
   },
   "file_extension": ".py",
   "mimetype": "text/x-python",
   "name": "python",
   "nbconvert_exporter": "python",
   "pygments_lexer": "ipython3",
   "version": "3.6.1"
  }
 },
 "nbformat": 4,
 "nbformat_minor": 2
}
